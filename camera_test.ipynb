{
 "cells": [
  {
   "cell_type": "code",
   "execution_count": 2,
   "metadata": {},
   "outputs": [],
   "source": [
    "import numpy as np\n",
    "import cv2\n",
    "from tensorflow.keras.models import load_model\n",
    "from hand_tracker import HandTracker"
   ]
  },
  {
   "cell_type": "code",
   "execution_count": 3,
   "metadata": {},
   "outputs": [],
   "source": [
    "def sign_reco(hand_keypoint_detection, sign_classifier, labels, img):    \n",
    "    #        8   12  16  20\n",
    "    #        |   |   |   |\n",
    "    #        7   11  15  19\n",
    "    #    4   |   |   |   |\n",
    "    #    |   6   10  14  18\n",
    "    #    3   |   |   |   |\n",
    "    #    |   5---9---13--17\n",
    "    #    2    \\         /\n",
    "    #     \\    \\       /\n",
    "    #      1    \\     /\n",
    "    #       \\    \\   /\n",
    "    #        ------0-\n",
    "    connections = [(0, 1), (1, 2), (2, 3), (3, 4),\n",
    "                   (5, 6), (6, 7), (7, 8),\n",
    "                   (9, 10), (10, 11), (11, 12),\n",
    "                   (13, 14), (14, 15), (15, 16),\n",
    "                   (17, 18), (18, 19), (19, 20),\n",
    "                   (0, 5), (5, 9), (9, 13), (13, 17), (0, 17)]\n",
    "                 \n",
    "    detector = HandTracker(\"models/palm_detection_without_custom_op.tflite\",\n",
    "                           \"models/hand_landmark.tflite\",\n",
    "                           \"models/anchors.csv\",\n",
    "                           box_shift=0.2,\n",
    "                           box_enlarge=1.3)\n",
    "    \n",
    "    points, _ = detector(img)\n",
    "    if points is not None:\n",
    "        for point in points:\n",
    "            x, y = point\n",
    "            cv2.circle(img, (int(x), int(y)), 3, (0, 255, 0), 2)\n",
    "        for connection in connections:\n",
    "            x0, y0 = points[connection[0]]\n",
    "            x1, y1 = points[connection[1]]\n",
    "            cv2.line(img, (int(x0), int(y0)), (int(x1), int(y1)), (255, 0, 0), 1)\n",
    "            \n",
    "        sign_coords = points.flatten() / float(img.shape[0]) - 0.5\n",
    "        sign_class = sign_classifier.predict(np.expand_dims(sign_coords, axis=0))\n",
    "        sign_text = labels[sign_class.argmax()]\n",
    "        wrist_x = int(points[0][0])\n",
    "        wrist_y = int(points[0][1])\n",
    "        cv2.putText(img, sign_text, (wrist_x-20,wrist_y+10), cv2.FONT_HERSHEY_SIMPLEX, 0.5, (255, 0, 0), 2)\n",
    "    else:\n",
    "        return False, img\n",
    "    \n",
    "        \n",
    "    return True, img"
   ]
  },
  {
   "cell_type": "code",
   "execution_count": 5,
   "metadata": {},
   "outputs": [],
   "source": [
    "# Create sign recognition model\n",
    "SIGNS = ['', 'Metal', 'Peace', 'Stop', 'OK']\n",
    "sign_classifier = load_model('models/model.h5') "
   ]
  },
  {
   "cell_type": "code",
   "execution_count": 6,
   "metadata": {},
   "outputs": [
    {
     "name": "stderr",
     "output_type": "stream",
     "text": [
      "C:\\Users\\admin\\Desktop\\handsign projekt\\hand_tracker.py:95: RuntimeWarning: overflow encountered in exp\n",
      "  return 1 / (1 + np.exp(-x) )\n"
     ]
    }
   ],
   "source": [
    "# Starting video streaming\n",
    "cv2.namedWindow('Subject zero')\n",
    "camera = cv2.VideoCapture(0)\n",
    "\n",
    "while True:\n",
    "    frame = camera.read()[1]\n",
    "    \n",
    "    succes_flag, frame_det = sign_reco('todo:hand_keypoint_detection model', sign_classifier, SIGNS, frame)\n",
    "    \n",
    "    # Show frame\n",
    "    if succes_flag:\n",
    "        cv2.imshow('Subject zero', frame_det)\n",
    "    else:\n",
    "        cv2.imshow('Subject zero', frame)\n",
    "\n",
    "    # When the video window is the active window you can close it by pressing q key\n",
    "    if cv2.waitKey(1) & 0xFF == ord('q'):\n",
    "        break\n",
    "\n",
    "camera.release()\n",
    "cv2.destroyAllWindows()"
   ]
  }
 ],
 "metadata": {
  "kernelspec": {
   "display_name": "Python 3",
   "language": "python",
   "name": "python3"
  }
 },
 "nbformat": 4,
 "nbformat_minor": 2
}
