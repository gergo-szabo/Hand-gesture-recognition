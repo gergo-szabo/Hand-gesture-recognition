{
 "cells": [
  {
   "cell_type": "code",
   "execution_count": 1,
   "metadata": {},
   "outputs": [],
   "source": [
    "import glob\n",
    "import numpy as np\n",
    "import pandas as pd\n",
    "import cv2\n",
    "from hand_tracker import HandTracker"
   ]
  },
  {
   "cell_type": "code",
   "execution_count": 2,
   "metadata": {},
   "outputs": [],
   "source": [
    "# Models to find hands and hand keypoints\n",
    "PALM_MODEL_PATH = \"./models/palm_detection_without_custom_op.tflite\"\n",
    "LANDMARK_MODEL_PATH = \"./models/hand_landmark.tflite\"\n",
    "ANCHORS_PATH = \"./models/anchors.csv\"\n",
    "detector = HandTracker(\n",
    "    PALM_MODEL_PATH,\n",
    "    LANDMARK_MODEL_PATH,\n",
    "    ANCHORS_PATH,\n",
    "    box_shift=0.2,\n",
    "    box_enlarge=1.3\n",
    ")"
   ]
  },
  {
   "cell_type": "code",
   "execution_count": 3,
   "metadata": {},
   "outputs": [],
   "source": [
    "# Load image, run hand keypoint detection.\n",
    "# Do these steps for the vertically mirrored image also.\n",
    "def collect_data(data_list, label_list, label, path):\n",
    "    for file in glob.glob(path):\n",
    "        # Noraml image\n",
    "        img = cv2.imread(file)\n",
    "        img = cv2.cvtColor(img, cv2.COLOR_BGR2RGB)\n",
    "        points, box = detector(img)\n",
    "        if points is not None:\n",
    "            data_list.append(np.array(points.flatten()))\n",
    "            label_list.append(label)\n",
    "        else:\n",
    "            #print('Hand or hand keypoint detection error on normal image')\n",
    "            pass\n",
    "\n",
    "        # Vertically mirrored image\n",
    "        points, box = detector(np.fliplr(img))\n",
    "        if points is not None:\n",
    "            data_list.append(np.array(points.flatten()))\n",
    "            label_list.append(label)\n",
    "        else:\n",
    "            #print('Hand or hand keypoint detection error on mirrored image')\n",
    "            pass"
   ]
  },
  {
   "cell_type": "code",
   "execution_count": 4,
   "metadata": {},
   "outputs": [
    {
     "name": "stderr",
     "output_type": "stream",
     "text": [
      "C:\\Users\\admin\\Desktop\\handsign projekt\\hand_tracker.py:95: RuntimeWarning: overflow encountered in exp\n",
      "  return 1 / (1 + np.exp(-x) )\n"
     ]
    }
   ],
   "source": [
    "# Collect data for training\n",
    "x = []\n",
    "y = []\n",
    "collect_data(x, y, 0, 'collection/misc/*.png')\n",
    "collect_data(x, y, 1, 'collection/metal/*.png')\n",
    "collect_data(x, y, 2, 'collection/peace/*.png')\n",
    "collect_data(x, y, 3, 'collection/stop/*.png')\n",
    "collect_data(x, y, 4, 'collection/ok/*.png')"
   ]
  },
  {
   "cell_type": "code",
   "execution_count": 5,
   "metadata": {},
   "outputs": [
    {
     "name": "stdout",
     "output_type": "stream",
     "text": [
      "Number of train samples before augmentation 1336.5\n",
      "Number of train samples after augmentation 1178793\n"
     ]
    }
   ],
   "source": [
    "## Augment data\n",
    "\n",
    "print('Number of train samples before augmentation', len(x) / 2)\n",
    "\n",
    "# Mirror / Flip vertically (done during train set assembly)\n",
    "\n",
    "# Translation\n",
    "for i in range(len(x)):\n",
    "    for j in range(20):\n",
    "        x_offset = np.random.randint(640) - 320\n",
    "        y_offset = np.random.randint(480) - 240\n",
    "        offset = [x_offset, y_offset] * 21\n",
    "        x.append(x[i] + offset)\n",
    "        y.append(y[i])\n",
    "        \n",
    "# Create new samples with keypoint(joint) coordinate noise\n",
    "for i in range(len(x)):\n",
    "    for j in range(20):\n",
    "        offset = [0] * 42\n",
    "        index = np.random.randint(420)\n",
    "        if index < 42:\n",
    "            offset[index] = np.random.randint(20) - 10\n",
    "            \n",
    "        x.append(x[i] + offset)\n",
    "        y.append(y[i])\n",
    "        \n",
    "print('Number of train samples after augmentation', len(x))"
   ]
  },
  {
   "cell_type": "code",
   "execution_count": 6,
   "metadata": {},
   "outputs": [
    {
     "name": "stdout",
     "output_type": "stream",
     "text": [
      "Number of samples in each class: [381465 175077 160524 332955 128772]\n",
      "Class weights: [0.61803468 1.3465995  1.46868132 0.70807947 1.83082192]\n"
     ]
    }
   ],
   "source": [
    "# Calculate class weights\n",
    "x = np.array(x)\n",
    "y = np.array(y)\n",
    "\n",
    "class_weight = len(y) / (np.bincount(y).shape[0] * np.bincount(y))\n",
    "print('Number of samples in each class:', np.bincount(y))\n",
    "print('Class weights:', class_weight)"
   ]
  },
  {
   "cell_type": "code",
   "execution_count": 7,
   "metadata": {},
   "outputs": [],
   "source": [
    "# One-hot encode labels\n",
    "def one_hot_encode(targets, nb_classes):\n",
    "    res = np.eye(nb_classes)[np.array(targets).reshape(-1)]\n",
    "    return res.reshape(list(targets.shape) + [nb_classes])\n",
    "\n",
    "y_train = one_hot_encode(y, 5)"
   ]
  },
  {
   "cell_type": "code",
   "execution_count": 8,
   "metadata": {},
   "outputs": [],
   "source": [
    "# Shuffle samples \n",
    "def unison_shuffled_copies(a, b):\n",
    "    assert len(a) == len(b)\n",
    "    p = np.random.permutation(len(a))\n",
    "    return a[p], b[p]\n",
    "\n",
    "x_train, y_train = unison_shuffled_copies(x, y_train)"
   ]
  },
  {
   "cell_type": "code",
   "execution_count": 9,
   "metadata": {},
   "outputs": [],
   "source": [
    "# Normalization\n",
    "# Only rough normalization, keypoint max could be bigger than image shape along x axis because of augmentation\n",
    "x_train = x_train / x_train.max() - 0.5"
   ]
  },
  {
   "cell_type": "code",
   "execution_count": 10,
   "metadata": {},
   "outputs": [],
   "source": [
    "import tensorflow as tf\n",
    "import tensorflow_addons as tfa\n",
    "from tensorflow.keras.models import Model, load_model\n",
    "from tensorflow.keras.layers import Input, Dense, Flatten, BatchNormalization, GaussianDropout, Dropout,  Activation, Lambda\n",
    "from tensorflow.keras.callbacks import ModelCheckpoint\n",
    "from tensorflow.keras import backend as K\n",
    "from tensorflow.keras.utils import get_custom_objects"
   ]
  },
  {
   "cell_type": "code",
   "execution_count": 11,
   "metadata": {},
   "outputs": [
    {
     "name": "stdout",
     "output_type": "stream",
     "text": [
      "Input neurons: 42\n",
      "Estimation about ideal number of hidden neurons: 2007\n"
     ]
    }
   ],
   "source": [
    "# Rough estimation about the number of neurons in a 3 layer NN, Part 1\n",
    "input_neurons = 42 # Usually the size of your input\n",
    "output_size = 5\n",
    "factor = 10 # Unaugmented data: 1..5. (consider: noise augmentation has small amount of new information)\n",
    "samples = 0.8 * x_train.shape[0]\n",
    "hidden_neurons = int(np.ceil(samples / (factor * (input_neurons + output_size))))\n",
    "print('Input neurons:', input_neurons)\n",
    "print('Estimation about ideal number of hidden neurons:',hidden_neurons)"
   ]
  },
  {
   "cell_type": "code",
   "execution_count": 12,
   "metadata": {},
   "outputs": [
    {
     "name": "stdout",
     "output_type": "stream",
     "text": [
      "Input neurons: 168\n",
      "Estimation about ideal number of hidden neurons: 546\n"
     ]
    }
   ],
   "source": [
    "# Rough estimation about the number of neurons in a 3 layer NN, Part 2\n",
    "# First layer is a combination of coordinates.\n",
    "# Absolute coordinates and sistances between keypoints are needed for the hidden layer.\n",
    "# Keypoints have ~2 keypoint neighbor. This implies the need for 3*input shape but 4*input shape has higher accuracy.\n",
    "input_neurons = 4*42\n",
    "output_size = 5\n",
    "factor = 10 # Unaugmented data: 1..5. (consider: noise augmentation has small amount of new information)\n",
    "samples = 0.8 * x_train.shape[0]\n",
    "hidden_neurons = int(np.ceil(samples / (factor * (input_neurons + output_size))))\n",
    "print('Input neurons:', input_neurons)\n",
    "print('Estimation about ideal number of hidden neurons:', hidden_neurons)"
   ]
  },
  {
   "cell_type": "code",
   "execution_count": 13,
   "metadata": {},
   "outputs": [
    {
     "name": "stdout",
     "output_type": "stream",
     "text": [
      "Model: \"model\"\n",
      "_________________________________________________________________\n",
      "Layer (type)                 Output Shape              Param #   \n",
      "=================================================================\n",
      "input_1 (InputLayer)         [(None, 42)]              0         \n",
      "_________________________________________________________________\n",
      "dense (Dense)                (None, 168)               7224      \n",
      "_________________________________________________________________\n",
      "dropout (Dropout)            (None, 168)               0         \n",
      "_________________________________________________________________\n",
      "dense_1 (Dense)              (None, 546)               92274     \n",
      "_________________________________________________________________\n",
      "dropout_1 (Dropout)          (None, 546)               0         \n",
      "_________________________________________________________________\n",
      "dense_2 (Dense)              (None, 5)                 2735      \n",
      "=================================================================\n",
      "Total params: 102,233\n",
      "Trainable params: 102,233\n",
      "Non-trainable params: 0\n",
      "_________________________________________________________________\n"
     ]
    }
   ],
   "source": [
    "# Best combination was relu/adam\n",
    "activation = 'relu' # relu / tfa.activations.mish\n",
    "drop_rate = 0.5\n",
    "\n",
    "x1 = Input(shape=(42,))\n",
    "\n",
    "x2 = Dense(input_neurons, activation=activation) (x1) # 84\n",
    "x2 = Dropout(drop_rate) (x2)\n",
    "\n",
    "x3 = Dense(hidden_neurons, activation=activation) (x2) #458\n",
    "x3 = Dropout(drop_rate) (x3)\n",
    "\n",
    "x4 = Dense(5, activation='softmax') (x3)\n",
    "\n",
    "model = Model(inputs=x1, outputs=x4)\n",
    "\n",
    "radam = tfa.optimizers.RectifiedAdam()\n",
    "ranger = tfa.optimizers.Lookahead(radam, sync_period=6, slow_step_size=0.5)\n",
    "model.compile(loss = \"categorical_crossentropy\", optimizer='adam', metrics=[\"acc\"])\n",
    "\n",
    "model.summary()"
   ]
  },
  {
   "cell_type": "code",
   "execution_count": 14,
   "metadata": {},
   "outputs": [
    {
     "name": "stdout",
     "output_type": "stream",
     "text": [
      "Train on 943034 samples, validate on 235759 samples\n",
      "Epoch 1/14\n",
      "942336/943034 [============================>.] - ETA: 0s - loss: 0.4049 - acc: 0.8488\n",
      "Epoch 00001: val_acc improved from -inf to 0.91043, saving model to models/model.h5\n",
      "943034/943034 [==============================] - 25s 27us/sample - loss: 0.4048 - acc: 0.8488 - val_loss: 0.2339 - val_acc: 0.9104\n",
      "Epoch 2/14\n",
      "942336/943034 [============================>.] - ETA: 0s - loss: 0.2687 - acc: 0.8989\n",
      "Epoch 00002: val_acc improved from 0.91043 to 0.93052, saving model to models/model.h5\n",
      "943034/943034 [==============================] - 23s 24us/sample - loss: 0.2687 - acc: 0.8989 - val_loss: 0.1735 - val_acc: 0.9305\n",
      "Epoch 3/14\n",
      "942336/943034 [============================>.] - ETA: 0s - loss: 0.2328 - acc: 0.9119\n",
      "Epoch 00003: val_acc improved from 0.93052 to 0.93890, saving model to models/model.h5\n",
      "943034/943034 [==============================] - 22s 23us/sample - loss: 0.2328 - acc: 0.9119 - val_loss: 0.1563 - val_acc: 0.9389\n",
      "Epoch 4/14\n",
      "942592/943034 [============================>.] - ETA: 0s - loss: 0.2126 - acc: 0.9193\n",
      "Epoch 00004: val_acc improved from 0.93890 to 0.95039, saving model to models/model.h5\n",
      "943034/943034 [==============================] - 27s 29us/sample - loss: 0.2126 - acc: 0.9193 - val_loss: 0.1381 - val_acc: 0.9504\n",
      "Epoch 5/14\n",
      "941056/943034 [============================>.] - ETA: 0s - loss: 0.1963 - acc: 0.9252\n",
      "Epoch 00005: val_acc improved from 0.95039 to 0.95360, saving model to models/model.h5\n",
      "943034/943034 [==============================] - 26s 27us/sample - loss: 0.1963 - acc: 0.9252 - val_loss: 0.1216 - val_acc: 0.9536\n",
      "Epoch 6/14\n",
      "942336/943034 [============================>.] - ETA: 0s - loss: 0.1820 - acc: 0.9307\n",
      "Epoch 00006: val_acc improved from 0.95360 to 0.96223, saving model to models/model.h5\n",
      "943034/943034 [==============================] - 26s 27us/sample - loss: 0.1820 - acc: 0.9307 - val_loss: 0.1075 - val_acc: 0.9622\n",
      "Epoch 7/14\n",
      "942592/943034 [============================>.] - ETA: 0s - loss: 0.1722 - acc: 0.9342\n",
      "Epoch 00007: val_acc improved from 0.96223 to 0.96495, saving model to models/model.h5\n",
      "943034/943034 [==============================] - 26s 28us/sample - loss: 0.1722 - acc: 0.9342 - val_loss: 0.0985 - val_acc: 0.9649\n",
      "Epoch 8/14\n",
      "941824/943034 [============================>.] - ETA: 0s - loss: 0.1627 - acc: 0.9381\n",
      "Epoch 00008: val_acc improved from 0.96495 to 0.96879, saving model to models/model.h5\n",
      "943034/943034 [==============================] - 27s 29us/sample - loss: 0.1627 - acc: 0.9381 - val_loss: 0.0900 - val_acc: 0.9688\n",
      "Epoch 9/14\n",
      "941056/943034 [============================>.] - ETA: 0s - loss: 0.1541 - acc: 0.9415- ETA: - ETA: 0s - loss: 0.1543 - a\n",
      "Epoch 00009: val_acc improved from 0.96879 to 0.97195, saving model to models/model.h5\n",
      "943034/943034 [==============================] - 25s 27us/sample - loss: 0.1540 - acc: 0.9416 - val_loss: 0.0818 - val_acc: 0.9720\n",
      "Epoch 10/14\n",
      "941568/943034 [============================>.] - ETA: 0s - loss: 0.1461 - acc: 0.9447\n",
      "Epoch 00010: val_acc improved from 0.97195 to 0.97292, saving model to models/model.h5\n",
      "943034/943034 [==============================] - 25s 27us/sample - loss: 0.1461 - acc: 0.9446 - val_loss: 0.0833 - val_acc: 0.9729\n",
      "Epoch 11/14\n",
      "941312/943034 [============================>.] - ETA: 0s - loss: 0.1419 - acc: 0.9464\n",
      "Epoch 00011: val_acc improved from 0.97292 to 0.97390, saving model to models/model.h5\n",
      "943034/943034 [==============================] - 25s 27us/sample - loss: 0.1420 - acc: 0.9463 - val_loss: 0.0813 - val_acc: 0.9739\n",
      "Epoch 12/14\n",
      "942592/943034 [============================>.] - ETA: 0s - loss: 0.1343 - acc: 0.9494\n",
      "Epoch 00012: val_acc improved from 0.97390 to 0.97488, saving model to models/model.h5\n",
      "943034/943034 [==============================] - 25s 27us/sample - loss: 0.1343 - acc: 0.9494 - val_loss: 0.0750 - val_acc: 0.9749\n",
      "Epoch 13/14\n",
      "941568/943034 [============================>.] - ETA: 0s - loss: 0.1279 - acc: 0.9518\n",
      "Epoch 00013: val_acc improved from 0.97488 to 0.97870, saving model to models/model.h5\n",
      "943034/943034 [==============================] - 25s 27us/sample - loss: 0.1279 - acc: 0.9518 - val_loss: 0.0671 - val_acc: 0.9787\n",
      "Epoch 14/14\n",
      "942848/943034 [============================>.] - ETA: 0s - loss: 0.1251 - acc: 0.953 - ETA: 0s - loss: 0.1251 - acc: 0.9530\n",
      "Epoch 00014: val_acc improved from 0.97870 to 0.97894, saving model to models/model.h5\n",
      "943034/943034 [==============================] - 25s 27us/sample - loss: 0.1251 - acc: 0.9530 - val_loss: 0.0646 - val_acc: 0.9789\n"
     ]
    },
    {
     "data": {
      "text/plain": [
       "<matplotlib.axes._subplots.AxesSubplot at 0x1d79831cf98>"
      ]
     },
     "execution_count": 14,
     "metadata": {},
     "output_type": "execute_result"
    },
    {
     "data": {
      "image/png": "[encoded data removed]",
      "text/plain": [
       "<Figure size 432x288 with 1 Axes>"
      ]
     },
     "metadata": {
      "needs_background": "light"
     },
     "output_type": "display_data"
    },
    {
     "data": {
      "image/png": "[encoded data removed]",
      "text/plain": [
       "<Figure size 432x288 with 1 Axes>"
      ]
     },
     "metadata": {
      "needs_background": "light"
     },
     "output_type": "display_data"
    }
   ],
   "source": [
    "# Train\n",
    "checkpoint = ModelCheckpoint('models/model.h5',\n",
    "                             monitor='val_acc',\n",
    "                             verbose=1, \n",
    "                             save_best_only=True,\n",
    "                             save_weights_only=False,\n",
    "                             mode='max')\n",
    "history = model.fit(x_train, y_train, batch_size=256, epochs=14,\n",
    "                    validation_split=0.2, class_weight=class_weight,\n",
    "                    verbose=1, callbacks=[checkpoint])\n",
    "    \n",
    "# Save data\n",
    "history_df = pd.DataFrame(history.history)\n",
    "history_df[['loss', 'val_loss']].plot()\n",
    "history_df[['acc', 'val_acc']].plot()"
   ]
  }
 ],
 "metadata": {
  "kernelspec": {
   "display_name": "Python 3",
   "language": "python",
   "name": "python3"
  },
  "language_info": {
   "codemirror_mode": {
    "name": "ipython",
    "version": 3
   },
   "file_extension": ".py",
   "mimetype": "text/x-python",
   "name": "python",
   "nbconvert_exporter": "python",
   "pygments_lexer": "ipython3",
   "version": "3.6.10"
  }
 },
 "nbformat": 4,
 "nbformat_minor": 4
}
